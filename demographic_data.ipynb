{
 "cells": [
  {
   "cell_type": "code",
   "execution_count": 1,
   "id": "86a61c5a-e7a3-4220-b73d-34e23f5a30dc",
   "metadata": {},
   "outputs": [],
   "source": [
    "import pandas as pd"
   ]
  },
  {
   "cell_type": "code",
   "execution_count": 2,
   "id": "2f935e35-f724-4463-ba11-7c9205dcf996",
   "metadata": {},
   "outputs": [
    {
     "data": {
      "text/html": [
       "<div>\n",
       "<style scoped>\n",
       "    .dataframe tbody tr th:only-of-type {\n",
       "        vertical-align: middle;\n",
       "    }\n",
       "\n",
       "    .dataframe tbody tr th {\n",
       "        vertical-align: top;\n",
       "    }\n",
       "\n",
       "    .dataframe thead th {\n",
       "        text-align: right;\n",
       "    }\n",
       "</style>\n",
       "<table border=\"1\" class=\"dataframe\">\n",
       "  <thead>\n",
       "    <tr style=\"text-align: right;\">\n",
       "      <th></th>\n",
       "      <th>age</th>\n",
       "      <th>workclass</th>\n",
       "      <th>fnlwgt</th>\n",
       "      <th>education</th>\n",
       "      <th>education-num</th>\n",
       "      <th>marital-status</th>\n",
       "      <th>occupation</th>\n",
       "      <th>relationship</th>\n",
       "      <th>race</th>\n",
       "      <th>sex</th>\n",
       "      <th>capital-gain</th>\n",
       "      <th>capital-loss</th>\n",
       "      <th>hours-per-week</th>\n",
       "      <th>native-country</th>\n",
       "      <th>salary</th>\n",
       "    </tr>\n",
       "  </thead>\n",
       "  <tbody>\n",
       "    <tr>\n",
       "      <th>0</th>\n",
       "      <td>39</td>\n",
       "      <td>State-gov</td>\n",
       "      <td>77516</td>\n",
       "      <td>Bachelors</td>\n",
       "      <td>13</td>\n",
       "      <td>Never-married</td>\n",
       "      <td>Adm-clerical</td>\n",
       "      <td>Not-in-family</td>\n",
       "      <td>White</td>\n",
       "      <td>Male</td>\n",
       "      <td>2174</td>\n",
       "      <td>0</td>\n",
       "      <td>40</td>\n",
       "      <td>United-States</td>\n",
       "      <td>&lt;=50K</td>\n",
       "    </tr>\n",
       "    <tr>\n",
       "      <th>1</th>\n",
       "      <td>50</td>\n",
       "      <td>Self-emp-not-inc</td>\n",
       "      <td>83311</td>\n",
       "      <td>Bachelors</td>\n",
       "      <td>13</td>\n",
       "      <td>Married-civ-spouse</td>\n",
       "      <td>Exec-managerial</td>\n",
       "      <td>Husband</td>\n",
       "      <td>White</td>\n",
       "      <td>Male</td>\n",
       "      <td>0</td>\n",
       "      <td>0</td>\n",
       "      <td>13</td>\n",
       "      <td>United-States</td>\n",
       "      <td>&lt;=50K</td>\n",
       "    </tr>\n",
       "    <tr>\n",
       "      <th>2</th>\n",
       "      <td>38</td>\n",
       "      <td>Private</td>\n",
       "      <td>215646</td>\n",
       "      <td>HS-grad</td>\n",
       "      <td>9</td>\n",
       "      <td>Divorced</td>\n",
       "      <td>Handlers-cleaners</td>\n",
       "      <td>Not-in-family</td>\n",
       "      <td>White</td>\n",
       "      <td>Male</td>\n",
       "      <td>0</td>\n",
       "      <td>0</td>\n",
       "      <td>40</td>\n",
       "      <td>United-States</td>\n",
       "      <td>&lt;=50K</td>\n",
       "    </tr>\n",
       "    <tr>\n",
       "      <th>3</th>\n",
       "      <td>53</td>\n",
       "      <td>Private</td>\n",
       "      <td>234721</td>\n",
       "      <td>11th</td>\n",
       "      <td>7</td>\n",
       "      <td>Married-civ-spouse</td>\n",
       "      <td>Handlers-cleaners</td>\n",
       "      <td>Husband</td>\n",
       "      <td>Black</td>\n",
       "      <td>Male</td>\n",
       "      <td>0</td>\n",
       "      <td>0</td>\n",
       "      <td>40</td>\n",
       "      <td>United-States</td>\n",
       "      <td>&lt;=50K</td>\n",
       "    </tr>\n",
       "    <tr>\n",
       "      <th>4</th>\n",
       "      <td>28</td>\n",
       "      <td>Private</td>\n",
       "      <td>338409</td>\n",
       "      <td>Bachelors</td>\n",
       "      <td>13</td>\n",
       "      <td>Married-civ-spouse</td>\n",
       "      <td>Prof-specialty</td>\n",
       "      <td>Wife</td>\n",
       "      <td>Black</td>\n",
       "      <td>Female</td>\n",
       "      <td>0</td>\n",
       "      <td>0</td>\n",
       "      <td>40</td>\n",
       "      <td>Cuba</td>\n",
       "      <td>&lt;=50K</td>\n",
       "    </tr>\n",
       "  </tbody>\n",
       "</table>\n",
       "</div>"
      ],
      "text/plain": [
       "   age         workclass  fnlwgt  education  education-num  \\\n",
       "0   39         State-gov   77516  Bachelors             13   \n",
       "1   50  Self-emp-not-inc   83311  Bachelors             13   \n",
       "2   38           Private  215646    HS-grad              9   \n",
       "3   53           Private  234721       11th              7   \n",
       "4   28           Private  338409  Bachelors             13   \n",
       "\n",
       "       marital-status         occupation   relationship   race     sex  \\\n",
       "0       Never-married       Adm-clerical  Not-in-family  White    Male   \n",
       "1  Married-civ-spouse    Exec-managerial        Husband  White    Male   \n",
       "2            Divorced  Handlers-cleaners  Not-in-family  White    Male   \n",
       "3  Married-civ-spouse  Handlers-cleaners        Husband  Black    Male   \n",
       "4  Married-civ-spouse     Prof-specialty           Wife  Black  Female   \n",
       "\n",
       "   capital-gain  capital-loss  hours-per-week native-country salary  \n",
       "0          2174             0              40  United-States  <=50K  \n",
       "1             0             0              13  United-States  <=50K  \n",
       "2             0             0              40  United-States  <=50K  \n",
       "3             0             0              40  United-States  <=50K  \n",
       "4             0             0              40           Cuba  <=50K  "
      ]
     },
     "execution_count": 2,
     "metadata": {},
     "output_type": "execute_result"
    }
   ],
   "source": [
    "df = pd.read_csv(\"data/adult.data.csv\")\n",
    "df.head()"
   ]
  },
  {
   "cell_type": "markdown",
   "id": "36dc06ad-e204-4e13-bb5a-8d3f3722a5fd",
   "metadata": {},
   "source": [
    "- How many people of each race are represented in this dataset? This should be a Pandas series with race names as the index labels. (race column)"
   ]
  },
  {
   "cell_type": "code",
   "execution_count": 4,
   "id": "24785824-a593-4fde-a857-bbf7c532f007",
   "metadata": {},
   "outputs": [
    {
     "data": {
      "text/plain": [
       "[27816, 3124, 1039, 311, 271]"
      ]
     },
     "execution_count": 4,
     "metadata": {},
     "output_type": "execute_result"
    }
   ],
   "source": [
    "list(df.race.value_counts())"
   ]
  },
  {
   "cell_type": "markdown",
   "id": "7016d34c-f96f-458a-ae6d-de093892696b",
   "metadata": {},
   "source": [
    "- What is the average age of men?"
   ]
  },
  {
   "cell_type": "code",
   "execution_count": 41,
   "id": "4e54c456-d8e4-4c43-a260-47b15fb7cbd0",
   "metadata": {},
   "outputs": [
    {
     "data": {
      "text/plain": [
       "39.4"
      ]
     },
     "execution_count": 41,
     "metadata": {},
     "output_type": "execute_result"
    }
   ],
   "source": [
    "BM = df.sex == \"Male\"\n",
    "round(df[BM].age.mean(), 1)"
   ]
  },
  {
   "cell_type": "markdown",
   "id": "8c8b0609-af9a-4c47-b508-44f5a230a524",
   "metadata": {},
   "source": [
    "- What is the percentage of people who have a Bachelor's degree?"
   ]
  },
  {
   "cell_type": "code",
   "execution_count": 42,
   "id": "bf738051-1eea-4b91-b0f2-2dc2489e2e87",
   "metadata": {},
   "outputs": [
    {
     "data": {
      "text/plain": [
       "16.4"
      ]
     },
     "execution_count": 42,
     "metadata": {},
     "output_type": "execute_result"
    }
   ],
   "source": [
    "BM = df.education == \"Bachelors\"\n",
    "round(df[BM].shape[0] / df.shape[0] * 100, 1)"
   ]
  },
  {
   "cell_type": "markdown",
   "id": "24958387-9c02-4ef6-9e22-58baea77fc6b",
   "metadata": {},
   "source": [
    "- What percentage of people with advanced education (Bachelors, Masters, or Doctorate) make more than 50K?  "
   ]
  },
  {
   "cell_type": "code",
   "execution_count": 46,
   "id": "c8fde219-abcf-4f5a-a1b0-b7061319cdb4",
   "metadata": {},
   "outputs": [
    {
     "data": {
      "text/plain": [
       "46.5"
      ]
     },
     "execution_count": 46,
     "metadata": {},
     "output_type": "execute_result"
    }
   ],
   "source": [
    "BM_edu = (df.education == \"Bachelors\") | (df.education == \"Masters\") | (df.education == \"Doctorate\")\n",
    "BM_sal = df.salary == \">50K\"\n",
    "\n",
    "round(df[BM_edu & BM_sal].shape[0] / df[BM_edu].shape[0] * 100, 1)"
   ]
  },
  {
   "cell_type": "markdown",
   "id": "85b5fd2b-ac25-40ee-aa00-439d3bfe3e59",
   "metadata": {},
   "source": [
    "- What percentage of people without advanced education make more than 50K?  "
   ]
  },
  {
   "cell_type": "code",
   "execution_count": 48,
   "id": "ad887b55-87c7-41f8-8882-1d756cd5eda2",
   "metadata": {},
   "outputs": [
    {
     "data": {
      "text/plain": [
       "17.4"
      ]
     },
     "execution_count": 48,
     "metadata": {},
     "output_type": "execute_result"
    }
   ],
   "source": [
    "round(df[(~BM_edu) & BM_sal].shape[0] / df[~BM_edu].shape[0] * 100, 1)"
   ]
  },
  {
   "cell_type": "markdown",
   "id": "245b964f-12f3-4d7c-8b5d-a85fe8709f01",
   "metadata": {},
   "source": [
    "- What is the minimum number of hours a person works per week? "
   ]
  },
  {
   "cell_type": "code",
   "execution_count": 51,
   "id": "ffbfe9e3-2fca-4791-9b06-6ecb795a5991",
   "metadata": {},
   "outputs": [
    {
     "data": {
      "text/plain": [
       "1"
      ]
     },
     "execution_count": 51,
     "metadata": {},
     "output_type": "execute_result"
    }
   ],
   "source": [
    "df[\"hours-per-week\"].min()"
   ]
  },
  {
   "cell_type": "markdown",
   "id": "752bb3fa-4065-4caa-9b80-6eb91d1da1ad",
   "metadata": {},
   "source": [
    " \n",
    "- What percentage of the people who work the minimum number of hours per week have a salary of more than 50K?"
   ]
  },
  {
   "cell_type": "code",
   "execution_count": 54,
   "id": "ee1431af-4d47-48b5-bab2-b54ac89585b5",
   "metadata": {},
   "outputs": [
    {
     "data": {
      "text/plain": [
       "10.0"
      ]
     },
     "execution_count": 54,
     "metadata": {},
     "output_type": "execute_result"
    }
   ],
   "source": [
    "BM_hrs = (df[\"hours-per-week\"] == 1)\n",
    "df[BM_hrs & BM_sal].shape[0] / df[BM_hrs].shape[0] * 100"
   ]
  },
  {
   "cell_type": "markdown",
   "id": "cfb00fa0-2a3d-4e69-a4ad-f9c24597cd77",
   "metadata": {},
   "source": [
    "- What country has the highest percentage of people that earn >50K and what is that percentage?"
   ]
  },
  {
   "cell_type": "code",
   "execution_count": 69,
   "id": "1efadfeb-2d4b-4c67-99cd-cc710fa11de8",
   "metadata": {},
   "outputs": [
    {
     "data": {
      "text/plain": [
       "'Iran'"
      ]
     },
     "execution_count": 69,
     "metadata": {},
     "output_type": "execute_result"
    }
   ],
   "source": [
    "high_earn_pct = df[BM_sal].groupby([\"native-country\"])[\"salary\"].count() / df.groupby([\"native-country\"])[\"salary\"].count()\n",
    "high_earn_pct = high_earn_pct.sort_values(ascending=False)\n",
    "high_earn_pct.index[0]"
   ]
  },
  {
   "cell_type": "code",
   "execution_count": 75,
   "id": "327f4482-e737-44f3-95e3-447b243d5330",
   "metadata": {},
   "outputs": [
    {
     "data": {
      "text/plain": [
       "41.9"
      ]
     },
     "execution_count": 75,
     "metadata": {},
     "output_type": "execute_result"
    }
   ],
   "source": [
    "round(high_earn_pct.iloc[0] * 100, 1)"
   ]
  },
  {
   "cell_type": "markdown",
   "id": "cf56ead4-48f5-4db8-a47c-3b1990e056f1",
   "metadata": {},
   "source": [
    "- Identify the most popular occupation for those who earn >50K in India."
   ]
  },
  {
   "cell_type": "code",
   "execution_count": 79,
   "id": "0a0726a2-11cd-4991-ace3-6a474a848b56",
   "metadata": {},
   "outputs": [
    {
     "data": {
      "text/plain": [
       "'Prof-specialty'"
      ]
     },
     "execution_count": 79,
     "metadata": {},
     "output_type": "execute_result"
    }
   ],
   "source": [
    "BM_ind = df[\"native-country\"] == \"India\"\n",
    "ind_prof = df[BM_ind & BM_sal].occupation.value_counts()\n",
    "ind_prof.index[0]"
   ]
  }
 ],
 "metadata": {
  "kernelspec": {
   "display_name": "Python 3 (ipykernel)",
   "language": "python",
   "name": "python3"
  },
  "language_info": {
   "codemirror_mode": {
    "name": "ipython",
    "version": 3
   },
   "file_extension": ".py",
   "mimetype": "text/x-python",
   "name": "python",
   "nbconvert_exporter": "python",
   "pygments_lexer": "ipython3",
   "version": "3.11.7"
  }
 },
 "nbformat": 4,
 "nbformat_minor": 5
}
